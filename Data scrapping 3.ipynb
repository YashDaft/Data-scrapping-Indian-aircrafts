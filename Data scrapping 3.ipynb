{
 "cells": [
  {
   "cell_type": "code",
   "execution_count": 10,
   "id": "d7af1c8f-c3c2-479b-b987-27c4831b2d43",
   "metadata": {},
   "outputs": [],
   "source": [
    "import requests\n",
    "from bs4 import BeautifulSoup\n",
    "import pandas as pd"
   ]
  },
  {
   "cell_type": "code",
   "execution_count": 11,
   "id": "bd6eb46a-1d5d-4ef9-bd27-a74a9ea5afaf",
   "metadata": {},
   "outputs": [],
   "source": [
    "# Wikipedia URL\n",
    "url = \"https://en.wikipedia.org/wiki/List_of_active_Indian_military_aircraft\"\n",
    "\n",
    "# Send a GET request with headers\n",
    "headers = {\"User-Agent\": \"Mozilla/5.0\"}\n",
    "response = requests.get(url, headers=headers)\n",
    "soup = BeautifulSoup(response.text, \"html.parser\")\n",
    "\n",
    "# Find all tables on the page\n",
    "tables = soup.find_all(\"table\", class_=\"wikitable\")"
   ]
  },
  {
   "cell_type": "code",
   "execution_count": 12,
   "id": "683ac7d2-98c6-4161-96a4-14263c4bf49d",
   "metadata": {},
   "outputs": [],
   "source": [
    "# Select the main table containing aircraft details\n",
    "aircraft_table = tables[0]  \n",
    "\n",
    "# Extract headers from the table\n",
    "headers = [th.text.strip() for th in aircraft_table.find_all(\"th\")]\n",
    "\n",
    "data = []\n",
    "for row in aircraft_table.find_all(\"tr\")[1:]:  \n",
    "    columns = row.find_all(\"td\")\n",
    "    row_data = [col.text.strip() for col in columns]\n",
    "    \n",
    "# Only add row if it has valid data\n",
    "    if len(row_data) > 0:\n",
    "        data.append(row_data)"
   ]
  },
  {
   "cell_type": "code",
   "execution_count": 13,
   "id": "cde88c41-7a73-4142-8d26-41c4e5651fd9",
   "metadata": {},
   "outputs": [
    {
     "name": "stdout",
     "output_type": "stream",
     "text": [
      "             Aircraft        Origin       Type  \\\n",
      "0     Dassault Rafale        France  Multirole   \n",
      "1                  EH         28[1]              \n",
      "2           HAL Tejas         India  Multirole   \n",
      "3  Conversion trainer  Mk.1 Trainer    4[4][5]   \n",
      "4           Multirole         Mk.1A              \n",
      "\n",
      "                                  Variant In service Notes  \n",
      "0                                      DH       8[1]        \n",
      "1                                    None       None  None  \n",
      "2                                    Mk.1   31[2][3]        \n",
      "3  Used for training; 14 more on order[6]       None  None  \n",
      "4     73 on order, 97 more approved[6][7]       None  None  \n"
     ]
    }
   ],
   "source": [
    "# Create a Pandas DataFrame\n",
    "df = pd.DataFrame(data, columns=headers[:len(data[0])])  # Ensure correct column mapping\n",
    "print(df.head())"
   ]
  },
  {
   "cell_type": "code",
   "execution_count": 9,
   "id": "7458afcc-77a8-4507-bc10-28423fe5742a",
   "metadata": {},
   "outputs": [],
   "source": [
    "# Save to CSV\n",
    "df.to_csv(\"indian_military_aircraft.csv\", index=False)"
   ]
  }
 ],
 "metadata": {
  "kernelspec": {
   "display_name": "Python 3 (ipykernel)",
   "language": "python",
   "name": "python3"
  },
  "language_info": {
   "codemirror_mode": {
    "name": "ipython",
    "version": 3
   },
   "file_extension": ".py",
   "mimetype": "text/x-python",
   "name": "python",
   "nbconvert_exporter": "python",
   "pygments_lexer": "ipython3",
   "version": "3.12.0"
  }
 },
 "nbformat": 4,
 "nbformat_minor": 5
}
